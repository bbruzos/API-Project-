{
 "cells": [
  {
   "cell_type": "code",
   "execution_count": 2,
   "metadata": {},
   "outputs": [],
   "source": [
    "import matplotlib.pyplot as plt\n",
    "import pandas as pd\n",
    "import scipy.stats as st\n",
    "import numpy as np"
   ]
  },
  {
   "cell_type": "code",
   "execution_count": 3,
   "metadata": {},
   "outputs": [],
   "source": [
    "per36 = pd.read_csv(\"NBAper36.csv\", encoding = \"utf8\")\n",
    "advanced = pd.read_csv(\"NBAadvanced.csv\", encoding = \"utf8\")\n",
    "salaries = pd.read_csv(\"NBAsalaries.csv\", encoding = \"utf8\")\n",
    "per36_ = per36.drop_duplicates(\"Player\", keep= \"first\")\n",
    "salaries = pd.read_csv(\"NBAsalaries.csv\", encoding = \"utf8\")\n",
    "per36_.to_csv('NBAper36.CSV', index=True)"
   ]
  },
  {
   "cell_type": "code",
   "execution_count": 5,
   "metadata": {},
   "outputs": [],
   "source": [
    "advanced\n",
    "advanced1 = advanced.drop(columns = [\"Unnamed: 17\", \"Unnamed: 22\" ])\n",
    "advanced2 = advanced1.drop_duplicates(\"Player\", keep = \"first\")\n",
    "advanced2.to_csv(\"NBAadvanced.csv\", index=True)"
   ]
  },
  {
   "cell_type": "code",
   "execution_count": null,
   "metadata": {},
   "outputs": [],
   "source": [
    "salaries\n",
    "salaries = salaries[[\"Player\", \"2019-20\"]]\n",
    "salaries"
   ]
  },
  {
   "cell_type": "code",
   "execution_count": null,
   "metadata": {},
   "outputs": [],
   "source": []
  }
 ],
 "metadata": {
  "kernelspec": {
   "display_name": "Python 3",
   "language": "python",
   "name": "python3"
  },
  "language_info": {
   "codemirror_mode": {
    "name": "ipython",
    "version": 3
   },
   "file_extension": ".py",
   "mimetype": "text/x-python",
   "name": "python",
   "nbconvert_exporter": "python",
   "pygments_lexer": "ipython3",
   "version": "3.7.6"
  }
 },
 "nbformat": 4,
 "nbformat_minor": 4
}
