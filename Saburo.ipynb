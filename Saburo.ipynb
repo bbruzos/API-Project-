{
 "cells": [
  {
   "cell_type": "code",
   "execution_count": null,
   "metadata": {},
   "outputs": [],
   "source": []
  },
  {
   "cell_type": "code",
   "execution_count": null,
   "metadata": {},
   "outputs": [],
   "source": [
    "#testing out the nba_api\n",
    "from nba_api.stats.endpoints import playercareerstats\n",
    "# Anthony Davis\n",
    "career = playercareerstats.PlayerCareerStats(player_id='203076')\n",
    "career.get_data_frames()[0].columns"
   ]
  },
  {
   "cell_type": "code",
   "execution_count": 17,
   "metadata": {},
   "outputs": [],
   "source": [
    "# Dependencies\n",
    "import requests\n",
    "import json\n",
    "import matplotlib.pyplot as plt\n",
    "import pandas as pd\n",
    "import scipy.stats as st\n",
    "import numpy as np\n",
    "\n",
    "adv_path = \"Research Data/NBAadvanced.csv\"\n",
    "per_path = \"Research Data/NBAper36.csv\"\n",
    "sal_path = \"Research Data/NBAsalaries.csv\"\n",
    "birth_path = \"Research Data/birth_dataframe.csv\"\n",
    "#sa\n",
    "adv_data = pd.read_csv(adv_path, encoding='utf8')\n",
    "per_data = pd.read_csv(per_path, encoding='utf8')\n",
    "sal_data = pd.read_csv(sal_path, encoding='utf8')\n",
    "birth_data = pd.read_csv(birth_path, encoding='utf8')\n",
    "\n",
    "#deleting all of the data NULL columans and entry from advanced stats\n",
    "#adv_data.dropna(how = 'any', inplace = True)\n",
    "\n",
    "adv_data.fillna(0, inplace = True)\n",
    "per_data.fillna(0, inplace = True) \n",
    "sal_data.fillna(0, inplace = True) "
   ]
  },
  {
   "cell_type": "code",
   "execution_count": 18,
   "metadata": {},
   "outputs": [],
   "source": [
    "# adv_sal = pd.merge(adv_data,sal_data, on = \"Player\")\n",
    "# per_sal = pd.merge(per_data,sal_data, on = \"Player\")\n",
    "adv_birth = pd.merge(adv_data,birth_data, on = \"Player\")\n",
    "per_birth = pd.merge(per_data,birth_data, on = \"Player\")\n",
    "per_birth_sal = pd.merge(per_birth,sal_data, on = \"Player\")\n",
    "adv_birth = pd.merge(adv_data,birth_data, on = \"Player\")"
   ]
  },
  {
   "cell_type": "code",
   "execution_count": 19,
   "metadata": {},
   "outputs": [
    {
     "data": {
      "text/plain": [
       "Player     296\n",
       "Age        296\n",
       "Tm         296\n",
       "G          296\n",
       "GS         296\n",
       "MP         296\n",
       "FG         296\n",
       "FGA        296\n",
       "FG%        296\n",
       "3P         296\n",
       "3PA        296\n",
       "3P%        296\n",
       "2P         296\n",
       "2PA        296\n",
       "2P%        296\n",
       "FT         296\n",
       "FTA        296\n",
       "FT%        296\n",
       "ORB        296\n",
       "DRB        296\n",
       "TRB        296\n",
       "AST        296\n",
       "STL        296\n",
       "BLK        296\n",
       "TOV        296\n",
       "PF         296\n",
       "PTS        296\n",
       "Date       296\n",
       "City       296\n",
       "State      296\n",
       "2019-20    296\n",
       "dtype: int64"
      ]
     },
     "execution_count": 19,
     "metadata": {},
     "output_type": "execute_result"
    }
   ],
   "source": [
    "#per_birth_sal.count()\n",
    "per_birth_sal.count()"
   ]
  },
  {
   "cell_type": "code",
   "execution_count": null,
   "metadata": {},
   "outputs": [],
   "source": []
  },
  {
   "cell_type": "code",
   "execution_count": null,
   "metadata": {},
   "outputs": [],
   "source": []
  },
  {
   "cell_type": "code",
   "execution_count": null,
   "metadata": {},
   "outputs": [],
   "source": []
  }
 ],
 "metadata": {
  "kernelspec": {
   "display_name": "Python 3",
   "language": "python",
   "name": "python3"
  },
  "language_info": {
   "codemirror_mode": {
    "name": "ipython",
    "version": 3
   },
   "file_extension": ".py",
   "mimetype": "text/x-python",
   "name": "python",
   "nbconvert_exporter": "python",
   "pygments_lexer": "ipython3",
   "version": "3.7.6"
  }
 },
 "nbformat": 4,
 "nbformat_minor": 4
}
