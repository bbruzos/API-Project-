{
 "cells": [
  {
   "cell_type": "code",
   "execution_count": 1,
   "metadata": {},
   "outputs": [],
   "source": [
    "# Dependencies\n",
    "import requests\n",
    "import json"
   ]
  },
  {
   "cell_type": "code",
   "execution_count": 2,
   "metadata": {},
   "outputs": [
    {
     "data": {
      "text/plain": [
       "Index(['PLAYER_ID', 'SEASON_ID', 'LEAGUE_ID', 'TEAM_ID', 'TEAM_ABBREVIATION',\n",
       "       'PLAYER_AGE', 'GP', 'GS', 'MIN', 'FGM', 'FGA', 'FG_PCT', 'FG3M', 'FG3A',\n",
       "       'FG3_PCT', 'FTM', 'FTA', 'FT_PCT', 'OREB', 'DREB', 'REB', 'AST', 'STL',\n",
       "       'BLK', 'TOV', 'PF', 'PTS'],\n",
       "      dtype='object')"
      ]
     },
     "execution_count": 2,
     "metadata": {},
     "output_type": "execute_result"
    }
   ],
   "source": [
    "from nba_api.stats.endpoints import playercareerstats\n",
    "# Anthony Davis\n",
    "career = playercareerstats.PlayerCareerStats(player_id='203076')\n",
    "career.get_data_frames()[0].columns"
   ]
  },
  {
   "cell_type": "code",
   "execution_count": 3,
   "metadata": {},
   "outputs": [],
   "source": [
    "import matplotlib.pyplot as plt\n",
    "import pandas as pd\n",
    "import scipy.stats as st\n",
    "import numpy as np\n",
    "\n",
    "adv_path = \"Research Data/NBAadvanced.csv\"\n",
    "per_path = \"Research Data/NBAper36.csv\"\n",
    "sal_path = \"Research Data/NBAsalaries.csv\"\n",
    "#sa\n",
    "adv_data = pd.read_csv(adv_path, encoding='utf8')\n",
    "per_data = pd.read_csv(per_path, encoding='utf8')\n",
    "sal_data = pd.read_csv(sal_path, encoding='utf8')\n",
    "\n",
    "\n",
    "#deleting all of the data NULL columans and entry from advanced stats\n",
    "#adv_data.dropna(how = 'any', inplace = True)\n",
    "\n",
    "#changeing the sal_data to focus only on 2019-2020 season \n",
    "# del sal_data['Unnamed: 0']\n",
    "# del adv_data['Unnamed: 0']\n",
    "\n",
    "# del per_data['Unnamed: 0']\n",
    "# del per_data['Unnamed: 0.1']\n",
    "# del per_data['Unnamed: 0.1.1']"
   ]
  },
  {
   "cell_type": "code",
   "execution_count": 4,
   "metadata": {},
   "outputs": [
    {
     "data": {
      "text/plain": [
       "Player     564\n",
       "2019-20    564\n",
       "dtype: int64"
      ]
     },
     "execution_count": 4,
     "metadata": {},
     "output_type": "execute_result"
    }
   ],
   "source": [
    "sal_data.count()"
   ]
  },
  {
   "cell_type": "code",
   "execution_count": 5,
   "metadata": {},
   "outputs": [
    {
     "data": {
      "text/plain": [
       "Unnamed: 0    514\n",
       "Player        514\n",
       "Age           514\n",
       "Tm            514\n",
       "G             514\n",
       "MP            514\n",
       "PER           514\n",
       "TS%           509\n",
       "3PAr          509\n",
       "FTr           509\n",
       "ORB%          514\n",
       "DRB%          514\n",
       "TRB%          514\n",
       "AST%          514\n",
       "STL%          514\n",
       "BLK%          514\n",
       "TOV%          510\n",
       "USG%          514\n",
       "OWS           514\n",
       "DWS           514\n",
       "WS            514\n",
       "WS/48         514\n",
       "OBPM          514\n",
       "DBPM          514\n",
       "BPM           514\n",
       "VORP          514\n",
       "dtype: int64"
      ]
     },
     "execution_count": 5,
     "metadata": {},
     "output_type": "execute_result"
    }
   ],
   "source": [
    "adv_data.count()"
   ]
  },
  {
   "cell_type": "code",
   "execution_count": 6,
   "metadata": {},
   "outputs": [
    {
     "data": {
      "text/plain": [
       "Unnamed: 0              514\n",
       "Unnamed: 0.1            514\n",
       "Unnamed: 0.1.1          514\n",
       "Unnamed: 0.1.1.1        514\n",
       "Unnamed: 0.1.1.1.1      514\n",
       "Unnamed: 0.1.1.1.1.1    514\n",
       "Player                  514\n",
       "Age                     514\n",
       "Tm                      514\n",
       "G                       514\n",
       "GS                      514\n",
       "MP                      514\n",
       "FG                      514\n",
       "FGA                     514\n",
       "FG%                     509\n",
       "3P                      514\n",
       "3PA                     514\n",
       "3P%                     485\n",
       "2P                      514\n",
       "2PA                     514\n",
       "2P%                     507\n",
       "FT                      514\n",
       "FTA                     514\n",
       "FT%                     481\n",
       "ORB                     514\n",
       "DRB                     514\n",
       "TRB                     514\n",
       "AST                     514\n",
       "STL                     514\n",
       "BLK                     514\n",
       "TOV                     514\n",
       "PF                      514\n",
       "PTS                     514\n",
       "dtype: int64"
      ]
     },
     "execution_count": 6,
     "metadata": {},
     "output_type": "execute_result"
    }
   ],
   "source": [
    "per_data.count()"
   ]
  },
  {
   "cell_type": "code",
   "execution_count": 7,
   "metadata": {},
   "outputs": [],
   "source": [
    "adv_sal = pd.merge(adv_data,sal_data, on = \"Player\")\n",
    "per_sal = pd.merge(per_data,sal_data, on = \"Player\")"
   ]
  },
  {
   "cell_type": "code",
   "execution_count": 8,
   "metadata": {},
   "outputs": [
    {
     "data": {
      "text/html": [
       "<div>\n",
       "<style scoped>\n",
       "    .dataframe tbody tr th:only-of-type {\n",
       "        vertical-align: middle;\n",
       "    }\n",
       "\n",
       "    .dataframe tbody tr th {\n",
       "        vertical-align: top;\n",
       "    }\n",
       "\n",
       "    .dataframe thead th {\n",
       "        text-align: right;\n",
       "    }\n",
       "</style>\n",
       "<table border=\"1\" class=\"dataframe\">\n",
       "  <thead>\n",
       "    <tr style=\"text-align: right;\">\n",
       "      <th></th>\n",
       "      <th>Unnamed: 0</th>\n",
       "      <th>Unnamed: 0.1</th>\n",
       "      <th>Unnamed: 0.1.1</th>\n",
       "      <th>Unnamed: 0.1.1.1</th>\n",
       "      <th>Unnamed: 0.1.1.1.1</th>\n",
       "      <th>Unnamed: 0.1.1.1.1.1</th>\n",
       "      <th>Player</th>\n",
       "      <th>Age</th>\n",
       "      <th>Tm</th>\n",
       "      <th>G</th>\n",
       "      <th>...</th>\n",
       "      <th>ORB</th>\n",
       "      <th>DRB</th>\n",
       "      <th>TRB</th>\n",
       "      <th>AST</th>\n",
       "      <th>STL</th>\n",
       "      <th>BLK</th>\n",
       "      <th>TOV</th>\n",
       "      <th>PF</th>\n",
       "      <th>PTS</th>\n",
       "      <th>2019-20</th>\n",
       "    </tr>\n",
       "  </thead>\n",
       "  <tbody>\n",
       "    <tr>\n",
       "      <th>0</th>\n",
       "      <td>0</td>\n",
       "      <td>0</td>\n",
       "      <td>0</td>\n",
       "      <td>0</td>\n",
       "      <td>0</td>\n",
       "      <td>0</td>\n",
       "      <td>Steven Adams</td>\n",
       "      <td>26</td>\n",
       "      <td>OKC</td>\n",
       "      <td>58</td>\n",
       "      <td>...</td>\n",
       "      <td>4.5</td>\n",
       "      <td>8.0</td>\n",
       "      <td>12.5</td>\n",
       "      <td>3.2</td>\n",
       "      <td>1.2</td>\n",
       "      <td>1.5</td>\n",
       "      <td>2.0</td>\n",
       "      <td>2.6</td>\n",
       "      <td>14.6</td>\n",
       "      <td>25842697</td>\n",
       "    </tr>\n",
       "    <tr>\n",
       "      <th>1</th>\n",
       "      <td>1</td>\n",
       "      <td>1</td>\n",
       "      <td>1</td>\n",
       "      <td>1</td>\n",
       "      <td>1</td>\n",
       "      <td>1</td>\n",
       "      <td>Bam Adebayo</td>\n",
       "      <td>22</td>\n",
       "      <td>MIA</td>\n",
       "      <td>65</td>\n",
       "      <td>...</td>\n",
       "      <td>2.7</td>\n",
       "      <td>8.3</td>\n",
       "      <td>11.0</td>\n",
       "      <td>5.4</td>\n",
       "      <td>1.3</td>\n",
       "      <td>1.4</td>\n",
       "      <td>3.0</td>\n",
       "      <td>2.6</td>\n",
       "      <td>17.0</td>\n",
       "      <td>3454080</td>\n",
       "    </tr>\n",
       "    <tr>\n",
       "      <th>2</th>\n",
       "      <td>2</td>\n",
       "      <td>2</td>\n",
       "      <td>2</td>\n",
       "      <td>2</td>\n",
       "      <td>2</td>\n",
       "      <td>2</td>\n",
       "      <td>LaMarcus Aldridge</td>\n",
       "      <td>34</td>\n",
       "      <td>SAS</td>\n",
       "      <td>53</td>\n",
       "      <td>...</td>\n",
       "      <td>2.1</td>\n",
       "      <td>5.9</td>\n",
       "      <td>8.0</td>\n",
       "      <td>2.6</td>\n",
       "      <td>0.7</td>\n",
       "      <td>1.8</td>\n",
       "      <td>1.5</td>\n",
       "      <td>2.6</td>\n",
       "      <td>20.5</td>\n",
       "      <td>26000000</td>\n",
       "    </tr>\n",
       "    <tr>\n",
       "      <th>3</th>\n",
       "      <td>3</td>\n",
       "      <td>3</td>\n",
       "      <td>3</td>\n",
       "      <td>3</td>\n",
       "      <td>3</td>\n",
       "      <td>3</td>\n",
       "      <td>Nickeil Alexander-Walker</td>\n",
       "      <td>21</td>\n",
       "      <td>NOP</td>\n",
       "      <td>41</td>\n",
       "      <td>...</td>\n",
       "      <td>0.6</td>\n",
       "      <td>5.2</td>\n",
       "      <td>5.7</td>\n",
       "      <td>5.3</td>\n",
       "      <td>0.8</td>\n",
       "      <td>0.5</td>\n",
       "      <td>2.9</td>\n",
       "      <td>3.3</td>\n",
       "      <td>15.2</td>\n",
       "      <td>2964840</td>\n",
       "    </tr>\n",
       "    <tr>\n",
       "      <th>4</th>\n",
       "      <td>4</td>\n",
       "      <td>4</td>\n",
       "      <td>4</td>\n",
       "      <td>4</td>\n",
       "      <td>4</td>\n",
       "      <td>4</td>\n",
       "      <td>Grayson Allen</td>\n",
       "      <td>24</td>\n",
       "      <td>MEM</td>\n",
       "      <td>30</td>\n",
       "      <td>...</td>\n",
       "      <td>0.4</td>\n",
       "      <td>4.4</td>\n",
       "      <td>4.8</td>\n",
       "      <td>3.1</td>\n",
       "      <td>0.4</td>\n",
       "      <td>0.1</td>\n",
       "      <td>1.7</td>\n",
       "      <td>2.6</td>\n",
       "      <td>16.0</td>\n",
       "      <td>2429400</td>\n",
       "    </tr>\n",
       "  </tbody>\n",
       "</table>\n",
       "<p>5 rows × 34 columns</p>\n",
       "</div>"
      ],
      "text/plain": [
       "   Unnamed: 0  Unnamed: 0.1  Unnamed: 0.1.1  Unnamed: 0.1.1.1  \\\n",
       "0           0             0               0                 0   \n",
       "1           1             1               1                 1   \n",
       "2           2             2               2                 2   \n",
       "3           3             3               3                 3   \n",
       "4           4             4               4                 4   \n",
       "\n",
       "   Unnamed: 0.1.1.1.1  Unnamed: 0.1.1.1.1.1                    Player  Age  \\\n",
       "0                   0                     0              Steven Adams   26   \n",
       "1                   1                     1               Bam Adebayo   22   \n",
       "2                   2                     2         LaMarcus Aldridge   34   \n",
       "3                   3                     3  Nickeil Alexander-Walker   21   \n",
       "4                   4                     4             Grayson Allen   24   \n",
       "\n",
       "    Tm   G  ...  ORB  DRB   TRB  AST  STL  BLK  TOV   PF   PTS   2019-20  \n",
       "0  OKC  58  ...  4.5  8.0  12.5  3.2  1.2  1.5  2.0  2.6  14.6  25842697  \n",
       "1  MIA  65  ...  2.7  8.3  11.0  5.4  1.3  1.4  3.0  2.6  17.0   3454080  \n",
       "2  SAS  53  ...  2.1  5.9   8.0  2.6  0.7  1.8  1.5  2.6  20.5  26000000  \n",
       "3  NOP  41  ...  0.6  5.2   5.7  5.3  0.8  0.5  2.9  3.3  15.2   2964840  \n",
       "4  MEM  30  ...  0.4  4.4   4.8  3.1  0.4  0.1  1.7  2.6  16.0   2429400  \n",
       "\n",
       "[5 rows x 34 columns]"
      ]
     },
     "execution_count": 8,
     "metadata": {},
     "output_type": "execute_result"
    }
   ],
   "source": [
    "#per_sal.dropna(how = 'any', inplace = True)\n",
    "per_sal.head()"
   ]
  },
  {
   "cell_type": "code",
   "execution_count": 9,
   "metadata": {},
   "outputs": [
    {
     "data": {
      "text/plain": [
       "Unnamed: 0    485\n",
       "Player        485\n",
       "Age           485\n",
       "Tm            485\n",
       "G             485\n",
       "MP            485\n",
       "PER           485\n",
       "TS%           483\n",
       "3PAr          483\n",
       "FTr           483\n",
       "ORB%          485\n",
       "DRB%          485\n",
       "TRB%          485\n",
       "AST%          485\n",
       "STL%          485\n",
       "BLK%          485\n",
       "TOV%          483\n",
       "USG%          485\n",
       "OWS           485\n",
       "DWS           485\n",
       "WS            485\n",
       "WS/48         485\n",
       "OBPM          485\n",
       "DBPM          485\n",
       "BPM           485\n",
       "VORP          485\n",
       "2019-20       485\n",
       "dtype: int64"
      ]
     },
     "execution_count": 9,
     "metadata": {},
     "output_type": "execute_result"
    }
   ],
   "source": [
    "adv_sal.count()"
   ]
  },
  {
   "cell_type": "code",
   "execution_count": null,
   "metadata": {},
   "outputs": [],
   "source": []
  },
  {
   "cell_type": "code",
   "execution_count": null,
   "metadata": {},
   "outputs": [],
   "source": []
  }
 ],
 "metadata": {
  "kernelspec": {
   "display_name": "Python 3",
   "language": "python",
   "name": "python3"
  },
  "language_info": {
   "codemirror_mode": {
    "name": "ipython",
    "version": 3
   },
   "file_extension": ".py",
   "mimetype": "text/x-python",
   "name": "python",
   "nbconvert_exporter": "python",
   "pygments_lexer": "ipython3",
   "version": "3.7.6"
  }
 },
 "nbformat": 4,
 "nbformat_minor": 4
}
