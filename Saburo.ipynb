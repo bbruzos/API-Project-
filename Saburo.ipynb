{
 "cells": [
  {
   "cell_type": "code",
   "execution_count": null,
   "metadata": {},
   "outputs": [],
   "source": []
  },
  {
   "cell_type": "code",
   "execution_count": null,
   "metadata": {},
   "outputs": [],
   "source": [
    "#testing out the nba_api\n",
    "from nba_api.stats.endpoints import playercareerstats\n",
    "# Anthony Davis\n",
    "career = playercareerstats.PlayerCareerStats(player_id='203076')\n",
    "career.get_data_frames()[0].columns"
   ]
  },
  {
   "cell_type": "code",
   "execution_count": 1,
   "metadata": {},
   "outputs": [],
   "source": [
    "# Dependencies\n",
    "import requests\n",
    "import json\n",
    "import matplotlib.pyplot as plt\n",
    "import pandas as pd\n",
    "import scipy.stats as st\n",
    "import numpy as np\n",
    "\n",
    "adv_path = \"Research Data/NBAadvanced.csv\"\n",
    "per_path = \"Research Data/NBAper36.csv\"\n",
    "sal_path = \"Research Data/NBAsalaries.csv\"\n",
    "birth_path = \"Research Data/birth_dataframe.csv\"\n",
    "\n",
    "adv_data = pd.read_csv(adv_path, encoding='utf8')\n",
    "per_data = pd.read_csv(per_path, encoding='utf8')\n",
    "sal_data = pd.read_csv(sal_path, encoding='utf8')\n",
    "birth_data = pd.read_csv(birth_path, encoding='utf8')\n",
    "birth_data = birth_data[[\"Player\",\"City\", \"State\"]]\n",
    "\n",
    "\n",
    "#filling all of the null values with \n",
    "adv_data.fillna(0, inplace = True)\n",
    "per_data.fillna(0, inplace = True) \n",
    "sal_data.fillna(0, inplace = True) "
   ]
  },
  {
   "cell_type": "code",
   "execution_count": 2,
   "metadata": {},
   "outputs": [],
   "source": [
    "# adv_sal = pd.merge(adv_data,sal_data, on = \"Player\")\n",
    "# per_sal = pd.merge(per_data,sal_data, on = \"Player\")\n",
    "adv_birth = pd.merge(adv_data,birth_data, on = \"Player\")\n",
    "per_birth = pd.merge(per_data,birth_data, on = \"Player\")\n",
    "per_birth_sal = pd.merge(per_birth,sal_data, on = \"Player\")\n",
    "adv_birth_sal = pd.merge(adv_birth,sal_data, on = \"Player\")"
   ]
  },
  {
   "cell_type": "code",
   "execution_count": 7,
   "metadata": {},
   "outputs": [],
   "source": [
    "#per_birth_sal.count()\n",
    "per_birth_sal.to_csv(\"per_birth_sal.csv\", index= False)"
   ]
  },
  {
   "cell_type": "code",
   "execution_count": 8,
   "metadata": {},
   "outputs": [],
   "source": [
    "adv_birth_sal.to_csv(\"adv_birth_sal.csv\", index=False)"
   ]
  },
  {
   "cell_type": "code",
   "execution_count": 10,
   "metadata": {},
   "outputs": [
    {
     "data": {
      "text/plain": [
       "Index(['Player', 'Age', 'Tm', 'G', 'MP', 'PER', 'TS%', '3PAr', 'FTr', 'ORB%',\n",
       "       'DRB%', 'TRB%', 'AST%', 'STL%', 'BLK%', 'TOV%', 'USG%', 'OWS', 'DWS',\n",
       "       'WS', 'WS/48', 'OBPM', 'DBPM', 'BPM', 'VORP', 'City', 'State',\n",
       "       '2019-20'],\n",
       "      dtype='object')"
      ]
     },
     "execution_count": 10,
     "metadata": {},
     "output_type": "execute_result"
    }
   ],
   "source": [
    "adv_birth_sal.columns"
   ]
  },
  {
   "cell_type": "code",
   "execution_count": 11,
   "metadata": {},
   "outputs": [
    {
     "data": {
      "text/plain": [
       "Index(['Player', 'Age', 'Tm', 'G', 'GS', 'MP', 'FG', 'FGA', 'FG%', '3P', '3PA',\n",
       "       '3P%', '2P', '2PA', '2P%', 'FT', 'FTA', 'FT%', 'ORB', 'DRB', 'TRB',\n",
       "       'AST', 'STL', 'BLK', 'TOV', 'PF', 'PTS', 'City', 'State', '2019-20'],\n",
       "      dtype='object')"
      ]
     },
     "execution_count": 11,
     "metadata": {},
     "output_type": "execute_result"
    }
   ],
   "source": [
    "per_birth_sal.columns"
   ]
  },
  {
   "cell_type": "code",
   "execution_count": null,
   "metadata": {},
   "outputs": [],
   "source": []
  }
 ],
 "metadata": {
  "kernelspec": {
   "display_name": "Python 3",
   "language": "python",
   "name": "python3"
  },
  "language_info": {
   "codemirror_mode": {
    "name": "ipython",
    "version": 3
   },
   "file_extension": ".py",
   "mimetype": "text/x-python",
   "name": "python",
   "nbconvert_exporter": "python",
   "pygments_lexer": "ipython3",
   "version": "3.7.6"
  }
 },
 "nbformat": 4,
 "nbformat_minor": 4
}
