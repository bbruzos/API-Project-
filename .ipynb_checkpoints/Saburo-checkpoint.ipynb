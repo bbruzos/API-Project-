{
 "cells": [
  {
   "cell_type": "code",
   "execution_count": 3,
   "metadata": {},
   "outputs": [],
   "source": [
    "# Dependencies\n",
    "import requests\n",
    "import json"
   ]
  },
  {
   "cell_type": "code",
   "execution_count": 4,
   "metadata": {},
   "outputs": [
    {
     "data": {
      "text/plain": [
       "Index(['PLAYER_ID', 'SEASON_ID', 'LEAGUE_ID', 'TEAM_ID', 'TEAM_ABBREVIATION',\n",
       "       'PLAYER_AGE', 'GP', 'GS', 'MIN', 'FGM', 'FGA', 'FG_PCT', 'FG3M', 'FG3A',\n",
       "       'FG3_PCT', 'FTM', 'FTA', 'FT_PCT', 'OREB', 'DREB', 'REB', 'AST', 'STL',\n",
       "       'BLK', 'TOV', 'PF', 'PTS'],\n",
       "      dtype='object')"
      ]
     },
     "execution_count": 4,
     "metadata": {},
     "output_type": "execute_result"
    }
   ],
   "source": [
    "#testing out the nba_api\n",
    "from nba_api.stats.endpoints import playercareerstats\n",
    "# Anthony Davis\n",
    "career = playercareerstats.PlayerCareerStats(player_id='203076')\n",
    "career.get_data_frames()[0].columns"
   ]
  },
  {
   "cell_type": "code",
   "execution_count": 5,
   "metadata": {},
   "outputs": [],
   "source": [
    "import matplotlib.pyplot as plt\n",
    "import pandas as pd\n",
    "import scipy.stats as st\n",
    "import numpy as np\n",
    "\n",
    "adv_path = \"Research Data/NBAadvanced.csv\"\n",
    "per_path = \"Research Data/NBAper36.csv\"\n",
    "sal_path = \"Research Data/NBAsalaries.csv\"\n",
    "birth_path = \"birth_dataframe.csv\"\n",
    "#sa\n",
    "adv_data = pd.read_csv(adv_path, encoding='utf8')\n",
    "per_data = pd.read_csv(per_path, encoding='utf8')\n",
    "sal_data = pd.read_csv(sal_path, encoding='utf8')\n",
    "\n",
    "\n",
    "#deleting all of the data NULL columans and entry from advanced stats\n",
    "#adv_data.dropna(how = 'any', inplace = True)\n",
    "\n",
    "adv_data.fillna(0, inplace = True)\n",
    "per_data.fillna(0, inplace = True) \n",
    "sal_data.fillna(0, inplace = True) "
   ]
  },
  {
   "cell_type": "code",
   "execution_count": 6,
   "metadata": {},
   "outputs": [
    {
     "data": {
      "text/plain": [
       "Player     564\n",
       "2019-20    564\n",
       "dtype: int64"
      ]
     },
     "execution_count": 6,
     "metadata": {},
     "output_type": "execute_result"
    }
   ],
   "source": [
    "sal_data.count()"
   ]
  },
  {
   "cell_type": "code",
   "execution_count": 7,
   "metadata": {},
   "outputs": [
    {
     "data": {
      "text/plain": [
       "Player    514\n",
       "Age       514\n",
       "Tm        514\n",
       "G         514\n",
       "MP        514\n",
       "PER       514\n",
       "TS%       514\n",
       "3PAr      514\n",
       "FTr       514\n",
       "ORB%      514\n",
       "DRB%      514\n",
       "TRB%      514\n",
       "AST%      514\n",
       "STL%      514\n",
       "BLK%      514\n",
       "TOV%      514\n",
       "USG%      514\n",
       "OWS       514\n",
       "DWS       514\n",
       "WS        514\n",
       "WS/48     514\n",
       "OBPM      514\n",
       "DBPM      514\n",
       "BPM       514\n",
       "VORP      514\n",
       "dtype: int64"
      ]
     },
     "execution_count": 7,
     "metadata": {},
     "output_type": "execute_result"
    }
   ],
   "source": [
    "adv_data.count()"
   ]
  },
  {
   "cell_type": "code",
   "execution_count": 8,
   "metadata": {},
   "outputs": [
    {
     "data": {
      "text/plain": [
       "Player    514\n",
       "Age       514\n",
       "Tm        514\n",
       "G         514\n",
       "GS        514\n",
       "MP        514\n",
       "FG        514\n",
       "FGA       514\n",
       "FG%       514\n",
       "3P        514\n",
       "3PA       514\n",
       "3P%       514\n",
       "2P        514\n",
       "2PA       514\n",
       "2P%       514\n",
       "FT        514\n",
       "FTA       514\n",
       "FT%       514\n",
       "ORB       514\n",
       "DRB       514\n",
       "TRB       514\n",
       "AST       514\n",
       "STL       514\n",
       "BLK       514\n",
       "TOV       514\n",
       "PF        514\n",
       "PTS       514\n",
       "dtype: int64"
      ]
     },
     "execution_count": 8,
     "metadata": {},
     "output_type": "execute_result"
    }
   ],
   "source": [
    "per_data.count()"
   ]
  },
  {
   "cell_type": "code",
   "execution_count": 9,
   "metadata": {},
   "outputs": [],
   "source": [
    "adv_sal = pd.merge(adv_data,sal_data, on = \"Player\")\n",
    "per_sal = pd.merge(per_data,sal_data, on = \"Player\")"
   ]
  },
  {
   "cell_type": "code",
   "execution_count": 10,
   "metadata": {},
   "outputs": [
    {
     "data": {
      "text/plain": [
       "Player     485\n",
       "Age        485\n",
       "Tm         485\n",
       "G          485\n",
       "GS         485\n",
       "MP         485\n",
       "FG         485\n",
       "FGA        485\n",
       "FG%        485\n",
       "3P         485\n",
       "3PA        485\n",
       "3P%        485\n",
       "2P         485\n",
       "2PA        485\n",
       "2P%        485\n",
       "FT         485\n",
       "FTA        485\n",
       "FT%        485\n",
       "ORB        485\n",
       "DRB        485\n",
       "TRB        485\n",
       "AST        485\n",
       "STL        485\n",
       "BLK        485\n",
       "TOV        485\n",
       "PF         485\n",
       "PTS        485\n",
       "2019-20    485\n",
       "dtype: int64"
      ]
     },
     "execution_count": 10,
     "metadata": {},
     "output_type": "execute_result"
    }
   ],
   "source": [
    "#per_sal.dropna(how = 'any', inplace = True)\n",
    "per_sal.count()"
   ]
  },
  {
   "cell_type": "code",
   "execution_count": 11,
   "metadata": {},
   "outputs": [
    {
     "data": {
      "text/plain": [
       "Player     485\n",
       "Age        485\n",
       "Tm         485\n",
       "G          485\n",
       "MP         485\n",
       "PER        485\n",
       "TS%        485\n",
       "3PAr       485\n",
       "FTr        485\n",
       "ORB%       485\n",
       "DRB%       485\n",
       "TRB%       485\n",
       "AST%       485\n",
       "STL%       485\n",
       "BLK%       485\n",
       "TOV%       485\n",
       "USG%       485\n",
       "OWS        485\n",
       "DWS        485\n",
       "WS         485\n",
       "WS/48      485\n",
       "OBPM       485\n",
       "DBPM       485\n",
       "BPM        485\n",
       "VORP       485\n",
       "2019-20    485\n",
       "dtype: int64"
      ]
     },
     "execution_count": 11,
     "metadata": {},
     "output_type": "execute_result"
    }
   ],
   "source": [
    "adv_sal.count()"
   ]
  },
  {
   "cell_type": "code",
   "execution_count": null,
   "metadata": {},
   "outputs": [],
   "source": []
  },
  {
   "cell_type": "code",
   "execution_count": null,
   "metadata": {},
   "outputs": [],
   "source": []
  }
 ],
 "metadata": {
  "kernelspec": {
   "display_name": "Python 3",
   "language": "python",
   "name": "python3"
  },
  "language_info": {
   "codemirror_mode": {
    "name": "ipython",
    "version": 3
   },
   "file_extension": ".py",
   "mimetype": "text/x-python",
   "name": "python",
   "nbconvert_exporter": "python",
   "pygments_lexer": "ipython3",
   "version": "3.7.6"
  }
 },
 "nbformat": 4,
 "nbformat_minor": 4
}
